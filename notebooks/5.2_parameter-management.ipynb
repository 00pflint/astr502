{
 "cells": [
  {
   "cell_type": "markdown",
   "id": "9d0378be",
   "metadata": {},
   "source": [
    "# [5.2 Parameter Management](https://d2l.ai/chapter_deep-learning-computation/parameters.html)"
   ]
  },
  {
   "cell_type": "code",
   "execution_count": 1,
   "id": "ad2859fc",
   "metadata": {},
   "outputs": [
    {
     "data": {
      "text/plain": [
       "tensor([[-0.1967],\n",
       "        [-0.1783]], grad_fn=<AddmmBackward>)"
      ]
     },
     "execution_count": 1,
     "metadata": {},
     "output_type": "execute_result"
    }
   ],
   "source": [
    "import torch\n",
    "from torch import nn\n",
    "\n",
    "import matplotlib.pyplot as plt\n",
    "%matplotlib inline\n",
    "\n",
    "net = nn.Sequential(nn.Linear(4, 8), nn.ReLU(), nn.Linear(8, 1))\n",
    "X = torch.rand(size=(2, 4))\n",
    "net(X)"
   ]
  },
  {
   "cell_type": "markdown",
   "id": "1b3db3d3",
   "metadata": {},
   "source": [
    "## 1. Parameter Access\n",
    "\n",
    "- The [Parameter](https://pytorch.org/docs/stable/generated/torch.nn.parameter.Parameter.html) class: `torch.nn.parameter.Parameter`."
   ]
  },
  {
   "cell_type": "code",
   "execution_count": 2,
   "id": "73c365bd",
   "metadata": {},
   "outputs": [
    {
     "data": {
      "text/plain": [
       "OrderedDict([('weight',\n",
       "              tensor([[ 0.1804, -0.3398,  0.0675, -0.1713,  0.0469, -0.3519, -0.1760, -0.3477]])),\n",
       "             ('bias', tensor([0.0844]))])"
      ]
     },
     "execution_count": 2,
     "metadata": {},
     "output_type": "execute_result"
    }
   ],
   "source": [
    "net[2].state_dict()"
   ]
  },
  {
   "cell_type": "code",
   "execution_count": 3,
   "id": "38fddfbc",
   "metadata": {},
   "outputs": [
    {
     "data": {
      "text/plain": [
       "torch.nn.parameter.Parameter"
      ]
     },
     "execution_count": 3,
     "metadata": {},
     "output_type": "execute_result"
    }
   ],
   "source": [
    "type(net[2].bias)"
   ]
  },
  {
   "cell_type": "code",
   "execution_count": 4,
   "id": "246360e5",
   "metadata": {},
   "outputs": [
    {
     "data": {
      "text/plain": [
       "torch.Size([8, 4])"
      ]
     },
     "execution_count": 4,
     "metadata": {},
     "output_type": "execute_result"
    }
   ],
   "source": [
    "net[0].weight.shape"
   ]
  },
  {
   "cell_type": "code",
   "execution_count": 5,
   "id": "06d3d975",
   "metadata": {},
   "outputs": [
    {
     "data": {
      "text/plain": [
       "Parameter containing:\n",
       "tensor([0.0844], requires_grad=True)"
      ]
     },
     "execution_count": 5,
     "metadata": {},
     "output_type": "execute_result"
    }
   ],
   "source": [
    "net[2].bias"
   ]
  },
  {
   "cell_type": "code",
   "execution_count": 6,
   "id": "839f9c7f",
   "metadata": {},
   "outputs": [
    {
     "name": "stdout",
     "output_type": "stream",
     "text": [
      "<class 'torch.Tensor'>\n",
      "tensor([0.0844])\n",
      "tensor([0.0844])\n"
     ]
    }
   ],
   "source": [
    "# Access the tensor object stored in the net[2].bias parameter.\n",
    "print(type(net[2].bias.data))\n",
    "print(net[2].bias.data)\n",
    "\n",
    "#     Another way of access the bias tensor stored in the 2nd layer of the network\n",
    "print(net.state_dict()['2.bias'].data)"
   ]
  },
  {
   "cell_type": "markdown",
   "id": "ccd23f45",
   "metadata": {},
   "source": [
    "#### Access gradient"
   ]
  },
  {
   "cell_type": "code",
   "execution_count": 7,
   "id": "ebe2e4ce",
   "metadata": {},
   "outputs": [
    {
     "data": {
      "text/plain": [
       "True"
      ]
     },
     "execution_count": 7,
     "metadata": {},
     "output_type": "execute_result"
    }
   ],
   "source": [
    "# access the gradient in the net[2].bias\n",
    "# since we haven't run backpropagation for this network yet, it is in its initial state.\n",
    "net[2].bias.grad == None"
   ]
  },
  {
   "cell_type": "markdown",
   "id": "e22d86a6",
   "metadata": {},
   "source": [
    "#### Access all parameters at once"
   ]
  },
  {
   "cell_type": "code",
   "execution_count": 8,
   "id": "608590f4",
   "metadata": {},
   "outputs": [
    {
     "name": "stdout",
     "output_type": "stream",
     "text": [
      "('weight', torch.Size([8, 4])) ('bias', torch.Size([8]))\n"
     ]
    }
   ],
   "source": [
    "# access parameters in the 1st layer of network\n",
    "print(*[(name, param.shape) for name, param in net[0].named_parameters()])"
   ]
  },
  {
   "cell_type": "code",
   "execution_count": 9,
   "id": "44fc7b6b",
   "metadata": {},
   "outputs": [
    {
     "name": "stdout",
     "output_type": "stream",
     "text": [
      "('0.weight', torch.Size([8, 4])) ('0.bias', torch.Size([8])) ('2.weight', torch.Size([1, 8])) ('2.bias', torch.Size([1]))\n"
     ]
    }
   ],
   "source": [
    "# access parameters in the entire network\n",
    "print(*[(name, param.shape) for name, param in net.named_parameters()])"
   ]
  },
  {
   "cell_type": "markdown",
   "id": "4753da47",
   "metadata": {},
   "source": [
    "#### Count number of trainable parameters"
   ]
  },
  {
   "cell_type": "code",
   "execution_count": 10,
   "id": "553dd1d7",
   "metadata": {},
   "outputs": [
    {
     "name": "stdout",
     "output_type": "stream",
     "text": [
      "TOTAL  : 49\n"
     ]
    }
   ],
   "source": [
    "# 4*8+8 + 8*1+1 = 49\n",
    "print('TOTAL  :', sum(param.numel() for param in net.parameters() if param.requires_grad))    "
   ]
  },
  {
   "cell_type": "markdown",
   "id": "a76a1d54",
   "metadata": {},
   "source": [
    "### Collecting Parameters from Nested Blocks"
   ]
  },
  {
   "cell_type": "code",
   "execution_count": 11,
   "id": "ed399beb",
   "metadata": {},
   "outputs": [
    {
     "data": {
      "text/plain": [
       "tensor([[-0.0593],\n",
       "        [-0.0593]], grad_fn=<AddmmBackward>)"
      ]
     },
     "execution_count": 11,
     "metadata": {},
     "output_type": "execute_result"
    }
   ],
   "source": [
    "def block1():\n",
    "    return nn.Sequential(nn.Linear(4, 8), nn.ReLU(),\n",
    "                         nn.Linear(8, 4), nn.ReLU())\n",
    "\n",
    "def block2():\n",
    "    net = nn.Sequential()\n",
    "    for i in range(4):\n",
    "        # Nested here\n",
    "        net.add_module(f'block {i}', block1())\n",
    "    return net\n",
    "\n",
    "rgnet = nn.Sequential(block2(), nn.Linear(4, 1))\n",
    "rgnet(X)"
   ]
  },
  {
   "cell_type": "markdown",
   "id": "b81a090d",
   "metadata": {},
   "source": [
    "#### Check how the parameters are organized in the network"
   ]
  },
  {
   "cell_type": "code",
   "execution_count": 12,
   "id": "89236ab6",
   "metadata": {},
   "outputs": [
    {
     "data": {
      "text/plain": [
       "Sequential(\n",
       "  (0): Sequential(\n",
       "    (block 0): Sequential(\n",
       "      (0): Linear(in_features=4, out_features=8, bias=True)\n",
       "      (1): ReLU()\n",
       "      (2): Linear(in_features=8, out_features=4, bias=True)\n",
       "      (3): ReLU()\n",
       "    )\n",
       "    (block 1): Sequential(\n",
       "      (0): Linear(in_features=4, out_features=8, bias=True)\n",
       "      (1): ReLU()\n",
       "      (2): Linear(in_features=8, out_features=4, bias=True)\n",
       "      (3): ReLU()\n",
       "    )\n",
       "    (block 2): Sequential(\n",
       "      (0): Linear(in_features=4, out_features=8, bias=True)\n",
       "      (1): ReLU()\n",
       "      (2): Linear(in_features=8, out_features=4, bias=True)\n",
       "      (3): ReLU()\n",
       "    )\n",
       "    (block 3): Sequential(\n",
       "      (0): Linear(in_features=4, out_features=8, bias=True)\n",
       "      (1): ReLU()\n",
       "      (2): Linear(in_features=8, out_features=4, bias=True)\n",
       "      (3): ReLU()\n",
       "    )\n",
       "  )\n",
       "  (1): Linear(in_features=4, out_features=1, bias=True)\n",
       ")"
      ]
     },
     "execution_count": 12,
     "metadata": {},
     "output_type": "execute_result"
    }
   ],
   "source": [
    "rgnet"
   ]
  },
  {
   "cell_type": "markdown",
   "id": "9e91862f",
   "metadata": {},
   "source": [
    "- The layers are hierarchically nested, we can also access them as though indexing through nested lists."
   ]
  },
  {
   "cell_type": "code",
   "execution_count": 13,
   "id": "3ef552cc",
   "metadata": {},
   "outputs": [
    {
     "data": {
      "text/plain": [
       "tensor([ 0.4027,  0.3637,  0.0027,  0.1478, -0.4474,  0.1260,  0.2113,  0.4252])"
      ]
     },
     "execution_count": 13,
     "metadata": {},
     "output_type": "execute_result"
    }
   ],
   "source": [
    "# e.g. access the 1st major block, within it the 2nd sub-block, and within that the bias of the 1st layer\n",
    "rgnet[0][1][0].bias.data"
   ]
  },
  {
   "cell_type": "markdown",
   "id": "20b4ac7b",
   "metadata": {},
   "source": [
    "## 2. Parameter Initialization"
   ]
  },
  {
   "cell_type": "markdown",
   "id": "3d7b811a",
   "metadata": {},
   "source": [
    "### Default Initialization in Pytorch\n",
    "\n",
    "- By default, `nn.Linear` initialize parameters **uniformly** in the range (-``bound``, ``bound``), where ``bound`` = **Number of input dimensions**.\n",
    "- Let's ask a wide linear layer and check : "
   ]
  },
  {
   "cell_type": "code",
   "execution_count": 14,
   "id": "a5b0c26e",
   "metadata": {},
   "outputs": [
    {
     "name": "stdout",
     "output_type": "stream",
     "text": [
      "weight dimension :  (6000, 100)\n",
      "bias dimension :  (6000,)\n"
     ]
    }
   ],
   "source": [
    "# The network would have 100x6000 parameters in stored and the weight parameter, \n",
    "#                        and 6000 parameters stored in bias.\n",
    "net = nn.Linear(in_features=100, out_features=6000)\n",
    "\n",
    "weight0 = net.weight.data.numpy()\n",
    "print('weight dimension : ', weight0.shape)\n",
    "\n",
    "bias0 = net.bias.data.numpy()\n",
    "print('bias dimension : ',bias0.shape)"
   ]
  },
  {
   "cell_type": "code",
   "execution_count": 15,
   "id": "3745f888",
   "metadata": {},
   "outputs": [
    {
     "data": {
      "text/plain": [
       "(array([60061., 59737., 60285., 60229., 59796., 60289., 60038., 59932.,\n",
       "        59697., 59936.]),\n",
       " array([-9.9999800e-02, -7.9999834e-02, -5.9999876e-02, -3.9999913e-02,\n",
       "        -1.9999951e-02,  1.1175871e-08,  1.9999973e-02,  3.9999936e-02,\n",
       "         5.9999898e-02,  7.9999864e-02,  9.9999823e-02], dtype=float32),\n",
       " <a list of 10 Patch objects>)"
      ]
     },
     "execution_count": 15,
     "metadata": {},
     "output_type": "execute_result"
    },
    {
     "data": {
      "image/png": "[encoded data removed]",
      "text/plain": [
       "<Figure size 432x288 with 1 Axes>"
      ]
     },
     "metadata": {
      "needs_background": "light"
     },
     "output_type": "display_data"
    }
   ],
   "source": [
    "# By default bound = 1./sqrt(100) = 0.1\n",
    "plt.hist(weight0.flatten())"
   ]
  },
  {
   "cell_type": "code",
   "execution_count": 16,
   "id": "a53d8a87",
   "metadata": {},
   "outputs": [
    {
     "data": {
      "text/plain": [
       "(array([617., 571., 598., 597., 616., 584., 586., 600., 591., 640.]),\n",
       " array([-9.9931888e-02, -7.9940632e-02, -5.9949368e-02, -3.9958112e-02,\n",
       "        -1.9966852e-02,  2.4408102e-05,  2.0015668e-02,  4.0006928e-02,\n",
       "         5.9998184e-02,  7.9989448e-02,  9.9980704e-02], dtype=float32),\n",
       " <a list of 10 Patch objects>)"
      ]
     },
     "execution_count": 16,
     "metadata": {},
     "output_type": "execute_result"
    },
    {
     "data": {
      "image/png": "[encoded data removed]",
      "text/plain": [
       "<Figure size 432x288 with 1 Axes>"
      ]
     },
     "metadata": {
      "needs_background": "light"
     },
     "output_type": "display_data"
    }
   ],
   "source": [
    "plt.hist(bias0.flatten())"
   ]
  }
 ],
 "metadata": {
  "kernelspec": {
   "display_name": "Python 3",
   "language": "python",
   "name": "python3"
  },
  "language_info": {
   "codemirror_mode": {
    "name": "ipython",
    "version": 3
   },
   "file_extension": ".py",
   "mimetype": "text/x-python",
   "name": "python",
   "nbconvert_exporter": "python",
   "pygments_lexer": "ipython3",
   "version": "3.7.4"
  }
 },
 "nbformat": 4,
 "nbformat_minor": 5
}
