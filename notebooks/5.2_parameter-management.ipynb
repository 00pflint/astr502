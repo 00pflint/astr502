{
 "cells": [
  {
   "cell_type": "markdown",
   "id": "9d0378be",
   "metadata": {},
   "source": [
    "# [5.2 Parameter Management](https://d2l.ai/chapter_deep-learning-computation/parameters.html)"
   ]
  },
  {
   "cell_type": "code",
   "execution_count": 1,
   "id": "ad2859fc",
   "metadata": {},
   "outputs": [
    {
     "data": {
      "text/plain": [
       "tensor([[-0.1939],\n",
       "        [-0.3060]], grad_fn=<AddmmBackward>)"
      ]
     },
     "execution_count": 1,
     "metadata": {},
     "output_type": "execute_result"
    }
   ],
   "source": [
    "import torch\n",
    "from torch import nn\n",
    "\n",
    "import matplotlib.pyplot as plt\n",
    "%matplotlib inline\n",
    "\n",
    "net = nn.Sequential(nn.Linear(4, 8), nn.ReLU(), nn.Linear(8, 1))\n",
    "X = torch.rand(size=(2, 4))\n",
    "net(X)"
   ]
  },
  {
   "cell_type": "markdown",
   "id": "1b3db3d3",
   "metadata": {},
   "source": [
    "## 1. Parameter Access\n",
    "\n",
    "- The [Parameter](https://pytorch.org/docs/stable/generated/torch.nn.parameter.Parameter.html) class: `torch.nn.parameter.Parameter`."
   ]
  },
  {
   "cell_type": "code",
   "execution_count": 2,
   "id": "73c365bd",
   "metadata": {},
   "outputs": [
    {
     "data": {
      "text/plain": [
       "OrderedDict([('weight',\n",
       "              tensor([[-0.2807, -0.1246, -0.3196,  0.0632, -0.2723, -0.0222,  0.2530,  0.3506]])),\n",
       "             ('bias', tensor([-0.1732]))])"
      ]
     },
     "execution_count": 2,
     "metadata": {},
     "output_type": "execute_result"
    }
   ],
   "source": [
    "net[2].state_dict()"
   ]
  },
  {
   "cell_type": "code",
   "execution_count": 3,
   "id": "38fddfbc",
   "metadata": {},
   "outputs": [
    {
     "data": {
      "text/plain": [
       "torch.nn.parameter.Parameter"
      ]
     },
     "execution_count": 3,
     "metadata": {},
     "output_type": "execute_result"
    }
   ],
   "source": [
    "type(net[2].bias)"
   ]
  },
  {
   "cell_type": "code",
   "execution_count": 4,
   "id": "246360e5",
   "metadata": {},
   "outputs": [
    {
     "data": {
      "text/plain": [
       "torch.Size([8, 4])"
      ]
     },
     "execution_count": 4,
     "metadata": {},
     "output_type": "execute_result"
    }
   ],
   "source": [
    "net[0].weight.shape"
   ]
  },
  {
   "cell_type": "code",
   "execution_count": 5,
   "id": "06d3d975",
   "metadata": {},
   "outputs": [
    {
     "data": {
      "text/plain": [
       "Parameter containing:\n",
       "tensor([-0.1732], requires_grad=True)"
      ]
     },
     "execution_count": 5,
     "metadata": {},
     "output_type": "execute_result"
    }
   ],
   "source": [
    "net[2].bias"
   ]
  },
  {
   "cell_type": "code",
   "execution_count": 6,
   "id": "839f9c7f",
   "metadata": {},
   "outputs": [
    {
     "name": "stdout",
     "output_type": "stream",
     "text": [
      "<class 'torch.Tensor'>\n",
      "tensor([-0.1732])\n",
      "tensor([-0.1732])\n"
     ]
    }
   ],
   "source": [
    "# Access the tensor object stored in the net[2].bias parameter.\n",
    "print(type(net[2].bias.data))\n",
    "print(net[2].bias.data)\n",
    "\n",
    "#     Another way of access the bias tensor stored in the 2nd layer of the network\n",
    "print(net.state_dict()['2.bias'].data)"
   ]
  },
  {
   "cell_type": "markdown",
   "id": "ccd23f45",
   "metadata": {},
   "source": [
    "#### Access gradient"
   ]
  },
  {
   "cell_type": "code",
   "execution_count": 7,
   "id": "ebe2e4ce",
   "metadata": {},
   "outputs": [
    {
     "data": {
      "text/plain": [
       "True"
      ]
     },
     "execution_count": 7,
     "metadata": {},
     "output_type": "execute_result"
    }
   ],
   "source": [
    "# access the gradient in the net[2].bias\n",
    "# since we haven't run backpropagation for this network yet, it is in its initial state.\n",
    "net[2].bias.grad == None"
   ]
  },
  {
   "cell_type": "markdown",
   "id": "e22d86a6",
   "metadata": {},
   "source": [
    "#### Access all parameters at once"
   ]
  },
  {
   "cell_type": "code",
   "execution_count": 8,
   "id": "608590f4",
   "metadata": {},
   "outputs": [
    {
     "name": "stdout",
     "output_type": "stream",
     "text": [
      "('weight', torch.Size([8, 4])) ('bias', torch.Size([8]))\n"
     ]
    }
   ],
   "source": [
    "# access parameters in the 1st layer of network\n",
    "print(*[(name, param.shape) for name, param in net[0].named_parameters()])"
   ]
  },
  {
   "cell_type": "code",
   "execution_count": 9,
   "id": "44fc7b6b",
   "metadata": {},
   "outputs": [
    {
     "name": "stdout",
     "output_type": "stream",
     "text": [
      "('0.weight', torch.Size([8, 4])) ('0.bias', torch.Size([8])) ('2.weight', torch.Size([1, 8])) ('2.bias', torch.Size([1]))\n"
     ]
    }
   ],
   "source": [
    "# access parameters in the entire network\n",
    "print(*[(name, param.shape) for name, param in net.named_parameters()])"
   ]
  },
  {
   "cell_type": "markdown",
   "id": "4753da47",
   "metadata": {},
   "source": [
    "#### Count number of trainable parameters"
   ]
  },
  {
   "cell_type": "code",
   "execution_count": 10,
   "id": "553dd1d7",
   "metadata": {},
   "outputs": [
    {
     "name": "stdout",
     "output_type": "stream",
     "text": [
      "TOTAL  : 49\n"
     ]
    }
   ],
   "source": [
    "# 4*8+8 + 8*1+1 = 49\n",
    "print('TOTAL  :', sum(param.numel() for param in net.parameters() if param.requires_grad))    "
   ]
  },
  {
   "cell_type": "markdown",
   "id": "a76a1d54",
   "metadata": {},
   "source": [
    "### Collecting Parameters from Nested Blocks"
   ]
  },
  {
   "cell_type": "code",
   "execution_count": 11,
   "id": "ed399beb",
   "metadata": {},
   "outputs": [
    {
     "data": {
      "text/plain": [
       "tensor([[-0.1392],\n",
       "        [-0.1392]], grad_fn=<AddmmBackward>)"
      ]
     },
     "execution_count": 11,
     "metadata": {},
     "output_type": "execute_result"
    }
   ],
   "source": [
    "def block1():\n",
    "    return nn.Sequential(nn.Linear(4, 8), nn.ReLU(),\n",
    "                         nn.Linear(8, 4), nn.ReLU())\n",
    "\n",
    "def block2():\n",
    "    net = nn.Sequential()\n",
    "    for i in range(4):\n",
    "        # Nested here\n",
    "        net.add_module(f'block {i}', block1())\n",
    "    return net\n",
    "\n",
    "rgnet = nn.Sequential(block2(), nn.Linear(4, 1))\n",
    "rgnet(X)"
   ]
  },
  {
   "cell_type": "markdown",
   "id": "b81a090d",
   "metadata": {},
   "source": [
    "#### Check how the parameters are organized in the network"
   ]
  },
  {
   "cell_type": "code",
   "execution_count": 12,
   "id": "89236ab6",
   "metadata": {},
   "outputs": [
    {
     "data": {
      "text/plain": [
       "Sequential(\n",
       "  (0): Sequential(\n",
       "    (block 0): Sequential(\n",
       "      (0): Linear(in_features=4, out_features=8, bias=True)\n",
       "      (1): ReLU()\n",
       "      (2): Linear(in_features=8, out_features=4, bias=True)\n",
       "      (3): ReLU()\n",
       "    )\n",
       "    (block 1): Sequential(\n",
       "      (0): Linear(in_features=4, out_features=8, bias=True)\n",
       "      (1): ReLU()\n",
       "      (2): Linear(in_features=8, out_features=4, bias=True)\n",
       "      (3): ReLU()\n",
       "    )\n",
       "    (block 2): Sequential(\n",
       "      (0): Linear(in_features=4, out_features=8, bias=True)\n",
       "      (1): ReLU()\n",
       "      (2): Linear(in_features=8, out_features=4, bias=True)\n",
       "      (3): ReLU()\n",
       "    )\n",
       "    (block 3): Sequential(\n",
       "      (0): Linear(in_features=4, out_features=8, bias=True)\n",
       "      (1): ReLU()\n",
       "      (2): Linear(in_features=8, out_features=4, bias=True)\n",
       "      (3): ReLU()\n",
       "    )\n",
       "  )\n",
       "  (1): Linear(in_features=4, out_features=1, bias=True)\n",
       ")"
      ]
     },
     "execution_count": 12,
     "metadata": {},
     "output_type": "execute_result"
    }
   ],
   "source": [
    "rgnet"
   ]
  },
  {
   "cell_type": "markdown",
   "id": "9e91862f",
   "metadata": {},
   "source": [
    "- The layers are hierarchically nested, we can also access them as though indexing through nested lists."
   ]
  },
  {
   "cell_type": "code",
   "execution_count": 13,
   "id": "3ef552cc",
   "metadata": {},
   "outputs": [
    {
     "data": {
      "text/plain": [
       "tensor([ 0.3257,  0.4952, -0.3786, -0.3917, -0.4979,  0.1154, -0.3498, -0.0417])"
      ]
     },
     "execution_count": 13,
     "metadata": {},
     "output_type": "execute_result"
    }
   ],
   "source": [
    "# e.g. access the 1st major block, within it the 2nd sub-block, and within that the bias of the 1st layer\n",
    "rgnet[0][1][0].bias.data"
   ]
  },
  {
   "cell_type": "markdown",
   "id": "20b4ac7b",
   "metadata": {},
   "source": [
    "## 2. Parameter Initialization"
   ]
  },
  {
   "cell_type": "markdown",
   "id": "3d7b811a",
   "metadata": {},
   "source": [
    "### Default Initialization in Pytorch\n",
    "\n",
    "- By default, `nn.Linear` initialize parameters **uniformly** in the range (-``bound``, ``bound``), where ``bound`` = **Number of input dimensions**.\n",
    "- Let's ask a wide linear layer and check : "
   ]
  },
  {
   "cell_type": "code",
   "execution_count": 14,
   "id": "a5b0c26e",
   "metadata": {},
   "outputs": [
    {
     "name": "stdout",
     "output_type": "stream",
     "text": [
      "weight dimension :  (6000, 100)\n",
      "bias dimension :  (6000,)\n"
     ]
    }
   ],
   "source": [
    "# The network would have 100x6000 parameters in stored and the weight parameter, \n",
    "#                        and 6000 parameters stored in bias.\n",
    "net = nn.Linear(in_features=100, out_features=6000)\n",
    "\n",
    "weight0 = net.weight.data.numpy()\n",
    "print('weight dimension : ', weight0.shape)\n",
    "\n",
    "bias0 = net.bias.data.numpy()\n",
    "print('bias dimension : ',bias0.shape)"
   ]
  },
  {
   "cell_type": "code",
   "execution_count": 15,
   "id": "3745f888",
   "metadata": {},
   "outputs": [
    {
     "data": {
      "text/plain": [
       "(array([59954., 60615., 60032., 60073., 59992., 59887., 59926., 60029.,\n",
       "        59912., 59580.]),\n",
       " array([-1.0000000e-01, -8.0000073e-02, -6.0000151e-02, -4.0000223e-02,\n",
       "        -2.0000298e-02, -3.7252903e-07,  1.9999553e-02,  3.9999478e-02,\n",
       "         5.9999406e-02,  7.9999328e-02,  9.9999256e-02], dtype=float32),\n",
       " <a list of 10 Patch objects>)"
      ]
     },
     "execution_count": 15,
     "metadata": {},
     "output_type": "execute_result"
    },
    {
     "data": {
      "image/png": "[encoded data removed]",
      "text/plain": [
       "<Figure size 432x288 with 1 Axes>"
      ]
     },
     "metadata": {
      "needs_background": "light"
     },
     "output_type": "display_data"
    }
   ],
   "source": [
    "# By default bound = 1./sqrt(100) = 0.1\n",
    "plt.hist(weight0.flatten())"
   ]
  },
  {
   "cell_type": "code",
   "execution_count": 16,
   "id": "a53d8a87",
   "metadata": {},
   "outputs": [
    {
     "data": {
      "text/plain": [
       "(array([604., 599., 585., 556., 620., 613., 598., 589., 620., 616.]),\n",
       " array([-9.9936448e-02, -7.9949804e-02, -5.9963152e-02, -3.9976507e-02,\n",
       "        -1.9989859e-02, -3.2112002e-06,  1.9983437e-02,  3.9970085e-02,\n",
       "         5.9956729e-02,  7.9943381e-02,  9.9930026e-02], dtype=float32),\n",
       " <a list of 10 Patch objects>)"
      ]
     },
     "execution_count": 16,
     "metadata": {},
     "output_type": "execute_result"
    },
    {
     "data": {
      "image/png": "[encoded data removed]",
      "text/plain": [
       "<Figure size 432x288 with 1 Axes>"
      ]
     },
     "metadata": {
      "needs_background": "light"
     },
     "output_type": "display_data"
    }
   ],
   "source": [
    "plt.hist(bias0.flatten())"
   ]
  },
  {
   "cell_type": "markdown",
   "id": "514ee657",
   "metadata": {},
   "source": [
    "### Built-in Initialization\n",
    "\n",
    "1. Define init_function using the functions from `nn.init`\n",
    "\n",
    "- `nn.init.normal_` \n",
    "- `nn.init.zeros_`\n",
    "- `nn.init.constant_` \n",
    "- `nn.init.xavier_uniform_`\n",
    "\n",
    "2. Use `net.apply(init_funciton)` to apply the `init_function` on network parameters"
   ]
  },
  {
   "cell_type": "code",
   "execution_count": 17,
   "id": "8250d5e9",
   "metadata": {},
   "outputs": [
    {
     "data": {
      "text/plain": [
       "(tensor([-0.0089, -0.0202, -0.0179, -0.0015]), tensor(0.))"
      ]
     },
     "execution_count": 17,
     "metadata": {},
     "output_type": "execute_result"
    }
   ],
   "source": [
    "def init_normal(m):\n",
    "    if type(m) == nn.Linear:\n",
    "        nn.init.normal_(m.weight, mean=0, std=0.01)\n",
    "        nn.init.zeros_(m.bias)\n",
    "\n",
    "net = nn.Sequential(nn.Linear(4, 8), nn.ReLU(), nn.Linear(8, 1))\n",
    "net.apply(init_normal)\n",
    "net[0].weight.data[0], net[0].bias.data[0]"
   ]
  },
  {
   "cell_type": "code",
   "execution_count": 18,
   "id": "99b17c71",
   "metadata": {},
   "outputs": [
    {
     "data": {
      "text/plain": [
       "(tensor([1., 1., 1., 1.]), tensor(0.))"
      ]
     },
     "execution_count": 18,
     "metadata": {},
     "output_type": "execute_result"
    }
   ],
   "source": [
    "def init_constant(m):\n",
    "    if type(m) == nn.Linear:\n",
    "        nn.init.constant_(m.weight, 1)\n",
    "        nn.init.zeros_(m.bias)\n",
    "net.apply(init_constant)\n",
    "net[0].weight.data[0], net[0].bias.data[0]"
   ]
  },
  {
   "cell_type": "code",
   "execution_count": 19,
   "id": "d48c3919",
   "metadata": {},
   "outputs": [
    {
     "name": "stdout",
     "output_type": "stream",
     "text": [
      "tensor([-0.5887, -0.3713,  0.1250, -0.0319])\n",
      "tensor([[42., 42., 42., 42., 42., 42., 42., 42.]])\n"
     ]
    }
   ],
   "source": [
    "def xavier(m):\n",
    "    if type(m) == nn.Linear:\n",
    "        nn.init.xavier_uniform_(m.weight)\n",
    "def init_42(m):\n",
    "    if type(m) == nn.Linear:\n",
    "        nn.init.constant_(m.weight, 42)\n",
    "\n",
    "net[0].apply(xavier)\n",
    "net[2].apply(init_42)\n",
    "print(net[0].weight.data[0])\n",
    "print(net[2].weight.data)"
   ]
  },
  {
   "cell_type": "markdown",
   "id": "2b2a177b",
   "metadata": {},
   "source": [
    "#### More complicated combinations of inits"
   ]
  },
  {
   "cell_type": "code",
   "execution_count": 20,
   "id": "92a0e8df",
   "metadata": {},
   "outputs": [
    {
     "name": "stdout",
     "output_type": "stream",
     "text": [
      "Init weight torch.Size([8, 4])\n",
      "Init weight torch.Size([1, 8])\n"
     ]
    },
    {
     "data": {
      "text/plain": [
       "tensor([[ 0.0000,  9.4122,  0.0000,  0.0000],\n",
       "        [-8.3178,  0.0000,  9.9160,  0.0000]], grad_fn=<SliceBackward>)"
      ]
     },
     "execution_count": 20,
     "metadata": {},
     "output_type": "execute_result"
    }
   ],
   "source": [
    "# w ~ U(  5, 10) ... 1/4 probability\n",
    "# w ~      0     ... 1/2 probability\n",
    "# w ~ U(-10, -5) ... 1/4 probability\n",
    "\n",
    "def my_init(m):\n",
    "    if type(m) == nn.Linear:\n",
    "        print(\"Init\", *[(name, param.shape)\n",
    "                        for name, param in m.named_parameters()][0])\n",
    "        nn.init.uniform_(m.weight, -10, 10)\n",
    "        m.weight.data *= m.weight.data.abs() >= 5\n",
    "\n",
    "net.apply(my_init)\n",
    "net[0].weight[:2]"
   ]
  },
  {
   "cell_type": "markdown",
   "id": "dfcba566",
   "metadata": {},
   "source": [
    "#### Setting parameter with specific array ID"
   ]
  },
  {
   "cell_type": "code",
   "execution_count": 21,
   "id": "2a6a8253",
   "metadata": {},
   "outputs": [
    {
     "data": {
      "text/plain": [
       "tensor([42.0000, 10.4122,  1.0000,  1.0000])"
      ]
     },
     "execution_count": 21,
     "metadata": {},
     "output_type": "execute_result"
    }
   ],
   "source": [
    "net[0].weight.data[:] += 1\n",
    "net[0].weight.data[0, 0] = 42\n",
    "net[0].weight.data[0]"
   ]
  },
  {
   "cell_type": "markdown",
   "id": "d5300588",
   "metadata": {},
   "source": [
    "## 3. Tied Parameters\n",
    "\n",
    "- In the example below, parameters of the second and third layer are tied. They are not just equal, they are represented by the same exact tensor. Thus, if we change one of the parameters, the other one changes, too. \n",
    "- When parameters are tied what happens to the gradients? Since the model parameters contain gradients, the gradients of the second hidden layer and the third hidden layer are added together during backpropagation."
   ]
  },
  {
   "cell_type": "code",
   "execution_count": 22,
   "id": "24808cbe",
   "metadata": {},
   "outputs": [
    {
     "name": "stdout",
     "output_type": "stream",
     "text": [
      "tensor([True, True, True, True, True, True, True, True])\n",
      "tensor([True, True, True, True, True, True, True, True])\n"
     ]
    }
   ],
   "source": [
    "# We need to give the shared layer a name so that we can refer to its\n",
    "# parameters\n",
    "shared = nn.Linear(8, 8)\n",
    "net = nn.Sequential(nn.Linear(4, 8), nn.ReLU(),\n",
    "                    shared, nn.ReLU(),\n",
    "                    shared, nn.ReLU(),\n",
    "                    nn.Linear(8, 1))\n",
    "net(X)\n",
    "# Check whether the parameters are the same\n",
    "print(net[2].weight.data[0] == net[4].weight.data[0])\n",
    "net[2].weight.data[0, 0] = 100\n",
    "# Make sure that they are actually the same object rather than just having the\n",
    "# same value\n",
    "print(net[2].weight.data[0] == net[4].weight.data[0])"
   ]
  },
  {
   "cell_type": "code",
   "execution_count": null,
   "id": "245ebe80",
   "metadata": {},
   "outputs": [],
   "source": []
  }
 ],
 "metadata": {
  "kernelspec": {
   "display_name": "Python 3",
   "language": "python",
   "name": "python3"
  },
  "language_info": {
   "codemirror_mode": {
    "name": "ipython",
    "version": 3
   },
   "file_extension": ".py",
   "mimetype": "text/x-python",
   "name": "python",
   "nbconvert_exporter": "python",
   "pygments_lexer": "ipython3",
   "version": "3.7.4"
  }
 },
 "nbformat": 4,
 "nbformat_minor": 5
}
